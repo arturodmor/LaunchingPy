{
 "cells": [
  {
   "cell_type": "code",
   "execution_count": 11,
   "metadata": {},
   "outputs": [
    {
     "name": "stdout",
     "output_type": "stream",
     "text": [
      "<function T_inertia_integration at 0x7f532b141940>\n"
     ]
    }
   ],
   "source": [
    "import pandas as pd\n",
    "\n",
    "def T_inertia_integration():\n",
    "    \"\"\"Integrate a basic ship according to her shape.\"\"\"\n",
    "\n",
    "    df_T_inertia = pd.DataFrame()\n",
    "    df_T_inertia['section'] = [0, 2.5, 5, 7.5, 10, 35, 60, 65, 70]\n",
    "    df_T_inertia['manga'] = [0, 13.23, 17.32, 19.36, 20, 20, 20, 0]\n",
    "\n",
    "    df_T_inertia['T_inertia'] = df_T_inertia['manga'].apply(lambda x: (1/12) * x**3)\n",
    "\n",
    "    return df_T_inertia\n",
    "\n",
    "print(T_inertia_integration)"
   ]
  },
  {
   "cell_type": "code",
   "execution_count": 6,
   "metadata": {},
   "outputs": [],
   "source": [
    "for value in df_T_inertia['section']:\n",
    "    T_inertia = (1/12)*(value)**3\n",
    "    df_T_inertia['T_inertia'] = T_inertia"
   ]
  },
  {
   "cell_type": "code",
   "execution_count": 7,
   "metadata": {},
   "outputs": [
    {
     "data": {
      "text/html": [
       "<div>\n",
       "<style scoped>\n",
       "    .dataframe tbody tr th:only-of-type {\n",
       "        vertical-align: middle;\n",
       "    }\n",
       "\n",
       "    .dataframe tbody tr th {\n",
       "        vertical-align: top;\n",
       "    }\n",
       "\n",
       "    .dataframe thead th {\n",
       "        text-align: right;\n",
       "    }\n",
       "</style>\n",
       "<table border=\"1\" class=\"dataframe\">\n",
       "  <thead>\n",
       "    <tr style=\"text-align: right;\">\n",
       "      <th></th>\n",
       "      <th>section</th>\n",
       "      <th>beam</th>\n",
       "      <th>T_inertia</th>\n",
       "    </tr>\n",
       "  </thead>\n",
       "  <tbody>\n",
       "    <tr>\n",
       "      <th>0</th>\n",
       "      <td>0.0</td>\n",
       "      <td>0.00</td>\n",
       "      <td>28583.333333</td>\n",
       "    </tr>\n",
       "    <tr>\n",
       "      <th>1</th>\n",
       "      <td>2.5</td>\n",
       "      <td>13.23</td>\n",
       "      <td>28583.333333</td>\n",
       "    </tr>\n",
       "    <tr>\n",
       "      <th>2</th>\n",
       "      <td>5.0</td>\n",
       "      <td>17.32</td>\n",
       "      <td>28583.333333</td>\n",
       "    </tr>\n",
       "    <tr>\n",
       "      <th>3</th>\n",
       "      <td>7.5</td>\n",
       "      <td>19.36</td>\n",
       "      <td>28583.333333</td>\n",
       "    </tr>\n",
       "    <tr>\n",
       "      <th>4</th>\n",
       "      <td>10.0</td>\n",
       "      <td>20.00</td>\n",
       "      <td>28583.333333</td>\n",
       "    </tr>\n",
       "  </tbody>\n",
       "</table>\n",
       "</div>"
      ],
      "text/plain": [
       "   section   beam     T_inertia\n",
       "0      0.0   0.00  28583.333333\n",
       "1      2.5  13.23  28583.333333\n",
       "2      5.0  17.32  28583.333333\n",
       "3      7.5  19.36  28583.333333\n",
       "4     10.0  20.00  28583.333333"
      ]
     },
     "execution_count": 7,
     "metadata": {},
     "output_type": "execute_result"
    }
   ],
   "source": [
    "df_T_inertia.head()"
   ]
  }
 ],
 "metadata": {
  "kernelspec": {
   "display_name": "arturo",
   "language": "python",
   "name": "python3"
  },
  "language_info": {
   "codemirror_mode": {
    "name": "ipython",
    "version": 3
   },
   "file_extension": ".py",
   "mimetype": "text/x-python",
   "name": "python",
   "nbconvert_exporter": "python",
   "pygments_lexer": "ipython3",
   "version": "3.9.12"
  },
  "orig_nbformat": 4
 },
 "nbformat": 4,
 "nbformat_minor": 2
}
